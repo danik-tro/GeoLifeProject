{
  "nbformat": 4,
  "nbformat_minor": 0,
  "metadata": {
    "colab": {
      "name": "GeoLife.ipynb",
      "provenance": [],
      "collapsed_sections": [],
      "authorship_tag": "ABX9TyOfhLLJq6p5RtaT8YRDpyan"
    },
    "kernelspec": {
      "name": "python3",
      "display_name": "Python 3"
    }
  },
  "cells": [
    {
      "cell_type": "markdown",
      "metadata": {
        "id": "y61ey75QNazC"
      },
      "source": [
        "# GeoLife Project\n",
        "## Chapter 1 - Download files\n",
        "1. Import libraries.\n",
        "2. Mount google drive.\n",
        "3. Created function for download zip-file.\n",
        "4. Unzip and moved file into google drive"
      ]
    },
    {
      "cell_type": "code",
      "metadata": {
        "id": "wYT0hkPBEcwO"
      },
      "source": [
        "from google.colab import drive\n",
        "import requests\n",
        "import re\n",
        "\n",
        "drive.mount('/content/drive')\n",
        "\n",
        "def download_file(url=\"https://download.microsoft.com/\"\n",
        "            \"download/F/4/8/F4894AA5-FDBC-481E-9285-D5F8C4C4F039/\"\n",
        "            \"Geolife%20Trajectories%201.3.zip\"):\n",
        "    r = requests.get(url, allow_redirects=True)\n",
        "    filename = \"Geolife Trajectories 1.3.zip\"\n",
        "\n",
        "    open(filename, 'wb').write(r.content)\n",
        "\n",
        "!unzip Geolife\\ Trajectories\\ 1.3.zip\n",
        "!rm -r Geolife\\ Trajectories\\ 1.3.zip\n",
        "!mv /content/\"Geolife Trajectories 1.3\" /content/drive/MyDrive/GeoLifeProject"
      ],
      "execution_count": null,
      "outputs": []
    },
    {
      "cell_type": "code",
      "metadata": {
        "id": "YrqdRD1DEi5E"
      },
      "source": [
        "!apt-get install openjdk-8-jdk-headless -qq > /dev/null\n",
        "!wget https://downloads.apache.org/spark/spark-3.0.1/spark-3.0.1-bin-hadoop3.2.tgz\n",
        "!tar -xvf spark-3.0.1-bin-hadoop3.2.tgz\n",
        "!pip install -q findspark\n",
        "!rm -r spark-3.0.1-bin-hadoop3.2.tgz\n",
        "\n",
        "import os\n",
        "os.environ[\"JAVA_HOME\"] = \"/usr/lib/jvm/java-8-openjdk-amd64\"\n",
        "os.environ[\"SPARK_HOME\"] = \"/content/spark-3.0.1-bin-hadoop3.2\"\n",
        "\n",
        "import findspark\n",
        "findspark.init()\n",
        "from pyspark.sql import SparkSession\n",
        "spark = SparkSession.builder.master(\"local[*]\").getOrCreate()   "
      ],
      "execution_count": null,
      "outputs": []
    },
    {
      "cell_type": "code",
      "metadata": {
        "id": "rWQKrIjMGvPx"
      },
      "source": [
        "directories_path = \"/content/drive/MyDrive/GeoLifeProject/Geolife Trajectories 1.3/Data\"\n",
        "\n",
        "def label_directory(path):\n",
        "  all_dir = (i for i in os.listdir(path))\n",
        "  return (i for i in all_dir if 'labels.txt' in os.listdir(path + \"/\" + i))"
      ],
      "execution_count": 27,
      "outputs": []
    },
    {
      "cell_type": "code",
      "metadata": {
        "colab": {
          "base_uri": "https://localhost:8080/"
        },
        "id": "xBdMVhXUGyNh",
        "outputId": "479c856a-ed25-44ed-dbdc-170df9b09cce"
      },
      "source": [
        "list(label_directory(directories_path))[:5]\n",
        "os.listdir(\"{0}/{1}/Trajectory/\".format(directories_path, \"175\"))[:5]"
      ],
      "execution_count": 73,
      "outputs": [
        {
          "output_type": "execute_result",
          "data": {
            "text/plain": [
              "['20071019052315.plt',\n",
              " '20071019221253.plt',\n",
              " '20071021072153.plt',\n",
              " '20071022014704.plt']"
            ]
          },
          "metadata": {
            "tags": []
          },
          "execution_count": 73
        }
      ]
    },
    {
      "cell_type": "code",
      "metadata": {
        "id": "1jWVMXStJD4e"
      },
      "source": [
        "from pyspark.sql.types import *\n",
        "from pyspark.sql.functions import *\n",
        "\n",
        "def labels(path_to_df):\n",
        "  schema = StructType(\n",
        "    [StructField(\"Start Time\", StringType(), True),\n",
        "    StructField(\"End Time\", StringType(), True),\n",
        "    StructField(\"Transportation Mode\", StringType(), True)]\n",
        "  )\n",
        "  \n",
        "  df = spark.read.format(\"txt\") \\\n",
        "  .option(\"inferSchema\", \"false\") \\\n",
        "  .option(\"header\", \"true\") \\\n",
        "  .option(\"sep\", \"\t\") \\\n",
        "  .schema(schema) \\\n",
        "  .csv(path_to_df + \"labels.txt\") \\\n",
        "  .select(\n",
        "    regexp_replace(\"Start Time\", '/', '-').alias(\"Start_time\"),\n",
        "    regexp_replace(\"End Time\", '/', '-').alias(\"End_time\"),\n",
        "    \"Transportation Mode\"\n",
        "  ) \\\n",
        "  .withColumn('Start_datetime', unix_timestamp(\"Start_time\", \"yyyy-MM-dd HH:mm:ss\")) \\\n",
        "  .withColumn(\"End_datetime\", unix_timestamp(\"End_time\", \"yyyy-MM-dd HH:mm:ss\"))\n"
      ],
      "execution_count": 114,
      "outputs": []
    },
    {
      "cell_type": "code",
      "metadata": {
        "id": "APA1pBx3u2DB"
      },
      "source": [
        "def gps(path_to_df):\n",
        "  schema = StructType(\n",
        "    [StructField(\"latitude\", DoubleType(), False),\n",
        "    StructField(\"longtitude\", DoubleType(), False),\n",
        "    StructField(\"zero\", IntegerType(), False),\n",
        "    StructField(\"altitude\", DoubleType(), False),\n",
        "    StructField(\"number_days\", DoubleType(), False),\n",
        "    StructField(\"date\", StringType(), False),\n",
        "    StructField(\"time\", StringType(), False)]\n",
        "  )\n",
        "  \n",
        "  df = spark.read.format(\"plt\") \\\n",
        "   .option('mode','DROPMALFORMED') \\\n",
        "  .option(\"inferSchema\", \"false\") \\\n",
        "  .option(\"header\", \"false\") \\\n",
        "  .option(\"sep\", \",\") \\\n",
        "  .schema(schema) \\\n",
        "  .csv(path_to_df + \"Trajectory/*.plt\")\\\n",
        "  .na.drop() \\\n",
        "   .select(\"latitude\",\n",
        "                 \"longtitude\",\n",
        "                 \"zero\",\n",
        "                 \"altitude\",\n",
        "                 concat_ws(\" \",\"date\", \"time\" ).alias(\"date_time\"),\n",
        "                 unix_timestamp(concat_ws(\" \",\"date\", \"time\" ), \"yyyy-MM-dd HH:mm:ss\").alias(\"timestamp\"))\n",
        "  # .na\\\n",
        "  # .drop()\\\n",
        "  # .select(udf_add_user(int(number_of_directory[:-1]))(col(\"zero\")).alias(\"id_user\"),\n",
        "  #               \"latitude\",\n",
        "  #                \"longtitude\",\n",
        "  #                \"zero\",\n",
        "  #                \"altitude\",\n",
        "  #         \"date_time\",\n",
        "  #        \"timestamp\",\n",
        "  #         udf_add_transport(txt)(col(\"timestamp\")).alias(\"transport\"),\n",
        "  #        udf_get_data_start_end(txt)(col(\"timestamp\")).alias(\"start_end\")\n",
        "  #        )\n",
        "  df.select([count(when(col(c).isNull(), c)).alias(c) for c in df.columns]).show()\n",
        "  df.show()\n",
        "  df.printSchema()"
      ],
      "execution_count": 117,
      "outputs": []
    },
    {
      "cell_type": "code",
      "metadata": {
        "colab": {
          "base_uri": "https://localhost:8080/"
        },
        "id": "hHF67vrEKUBM",
        "outputId": "947a0f20-2dbe-4c4b-e65e-4f32da36a798"
      },
      "source": [
        "labels(\"{0}/{1}/\".format(directories_path, \"010\"))"
      ],
      "execution_count": 112,
      "outputs": [
        {
          "output_type": "stream",
          "text": [
            "434\n",
            "434\n",
            "root\n",
            " |-- Start_time: string (nullable = true)\n",
            " |-- End_time: string (nullable = true)\n",
            " |-- Transportation Mode: string (nullable = true)\n",
            " |-- Start_datetime: long (nullable = true)\n",
            " |-- End_datetime: long (nullable = true)\n",
            "\n"
          ],
          "name": "stdout"
        }
      ]
    },
    {
      "cell_type": "code",
      "metadata": {
        "colab": {
          "base_uri": "https://localhost:8080/"
        },
        "id": "HsyRmpxIKnws",
        "outputId": "9517533f-5fd6-48a0-9f1a-03cc307778dc"
      },
      "source": [
        "gps(\"{0}/{1}/\".format(directories_path, \"010\"))"
      ],
      "execution_count": 118,
      "outputs": [
        {
          "output_type": "stream",
          "text": [
            "+--------+----------+----+--------+---------+---------+\n",
            "|latitude|longtitude|zero|altitude|date_time|timestamp|\n",
            "+--------+----------+----+--------+---------+---------+\n",
            "|       0|         0|   0|       0|        0|        0|\n",
            "+--------+----------+----+--------+---------+---------+\n",
            "\n",
            "+---------+----------+----+--------+-------------------+----------+\n",
            "| latitude|longtitude|zero|altitude|          date_time| timestamp|\n",
            "+---------+----------+----+--------+-------------------+----------+\n",
            "|39.991376| 116.32641|   0|   354.0|2008-12-19 11:40:10|1229686810|\n",
            "|39.991358|116.326438|   0|   361.0|2008-12-19 11:40:11|1229686811|\n",
            "|39.991364|116.326458|   0|   371.0|2008-12-19 11:40:12|1229686812|\n",
            "|39.991391|116.326418|   0|   322.0|2008-12-19 11:40:16|1229686816|\n",
            "|39.991384|116.326436|   0|   325.0|2008-12-19 11:40:17|1229686817|\n",
            "|39.991351|116.326498|   0|   344.0|2008-12-19 11:40:18|1229686818|\n",
            "|39.991306|116.326614|   0|   348.0|2008-12-19 11:40:20|1229686820|\n",
            "|39.991305|116.326561|   0|   338.0|2008-12-19 11:40:21|1229686821|\n",
            "|39.991316|116.326576|   0|   348.0|2008-12-19 11:40:22|1229686822|\n",
            "|39.991316|116.326561|   0|   338.0|2008-12-19 11:40:23|1229686823|\n",
            "|39.991315|116.326585|   0|   341.0|2008-12-19 11:40:24|1229686824|\n",
            "|39.991324|116.326606|   0|   344.0|2008-12-19 11:40:25|1229686825|\n",
            "|39.991294|116.326638|   0|   351.0|2008-12-19 11:40:26|1229686826|\n",
            "|39.991281|116.326661|   0|   351.0|2008-12-19 11:40:27|1229686827|\n",
            "| 39.99127|116.326683|   0|   361.0|2008-12-19 11:40:28|1229686828|\n",
            "|39.991268|116.326718|   0|   354.0|2008-12-19 11:40:30|1229686830|\n",
            "|39.991279| 116.32674|   0|   358.0|2008-12-19 11:40:31|1229686831|\n",
            "|39.991283|116.326759|   0|   361.0|2008-12-19 11:40:32|1229686832|\n",
            "|39.991291|116.326776|   0|   364.0|2008-12-19 11:40:33|1229686833|\n",
            "|39.991309|116.326788|   0|   364.0|2008-12-19 11:40:34|1229686834|\n",
            "+---------+----------+----+--------+-------------------+----------+\n",
            "only showing top 20 rows\n",
            "\n",
            "root\n",
            " |-- latitude: double (nullable = true)\n",
            " |-- longtitude: double (nullable = true)\n",
            " |-- zero: integer (nullable = true)\n",
            " |-- altitude: double (nullable = true)\n",
            " |-- date_time: string (nullable = false)\n",
            " |-- timestamp: long (nullable = true)\n",
            "\n"
          ],
          "name": "stdout"
        }
      ]
    },
    {
      "cell_type": "code",
      "metadata": {
        "id": "R1wjX1pav6s-"
      },
      "source": [
        ""
      ],
      "execution_count": null,
      "outputs": []
    }
  ]
}