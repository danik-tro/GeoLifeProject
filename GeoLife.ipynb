{
  "nbformat": 4,
  "nbformat_minor": 0,
  "metadata": {
    "colab": {
      "name": "GeoLife.ipynb",
      "provenance": [],
      "collapsed_sections": [],
      "authorship_tag": "ABX9TyMuPWbqYm9tRGhiC0XM0QF4"
    },
    "kernelspec": {
      "name": "python3",
      "display_name": "Python 3"
    }
  },
  "cells": [
    {
      "cell_type": "markdown",
      "metadata": {
        "id": "y61ey75QNazC"
      },
      "source": [
        "# GeoLife Project\n",
        "## Chapter 1 - Download files\n",
        "1. Import libraries.\n",
        "2. Mount google drive.\n",
        "3. Created function for download zip-file.\n",
        "4. Unzip and moved file into google drive"
      ]
    },
    {
      "cell_type": "code",
      "metadata": {
        "id": "wYT0hkPBEcwO"
      },
      "source": [
        "from google.colab import drive\n",
        "import requests\n",
        "import re\n",
        "\n",
        "drive.mount('/content/drive')\n",
        "\n",
        "def download_file(url=\"https://download.microsoft.com/\"\n",
        "            \"download/F/4/8/F4894AA5-FDBC-481E-9285-D5F8C4C4F039/\"\n",
        "            \"Geolife%20Trajectories%201.3.zip\"):\n",
        "    r = requests.get(url, allow_redirects=True)\n",
        "    filename = \"Geolife Trajectories 1.3.zip\"\n",
        "\n",
        "    open(filename, 'wb').write(r.content)\n",
        "\n",
        "!unzip Geolife\\ Trajectories\\ 1.3.zip\n",
        "!rm -r Geolife\\ Trajectories\\ 1.3.zip\n",
        "!mv /content/\"Geolife Trajectories 1.3\" /content/drive/MyDrive/GeoLifeProject"
      ],
      "execution_count": null,
      "outputs": []
    },
    {
      "cell_type": "code",
      "metadata": {
        "id": "YrqdRD1DEi5E"
      },
      "source": [
        "!apt-get install openjdk-8-jdk-headless -qq > /dev/null\n",
        "!wget https://downloads.apache.org/spark/spark-3.0.1/spark-3.0.1-bin-hadoop3.2.tgz\n",
        "!tar -xvf spark-3.0.1-bin-hadoop3.2.tgz\n",
        "!pip install -q findspark\n",
        "!rm -r spark-3.0.1-bin-hadoop3.2.tgz\n",
        "\n",
        "import os\n",
        "os.environ[\"JAVA_HOME\"] = \"/usr/lib/jvm/java-8-openjdk-amd64\"\n",
        "os.environ[\"SPARK_HOME\"] = \"/content/spark-3.0.1-bin-hadoop3.2\"\n",
        "\n",
        "import findspark\n",
        "findspark.init()\n",
        "from pyspark.sql import SparkSession\n",
        "spark = SparkSession.builder.master(\"local[*]\").getOrCreate()   "
      ],
      "execution_count": null,
      "outputs": []
    },
    {
      "cell_type": "code",
      "metadata": {
        "id": "rWQKrIjMGvPx"
      },
      "source": [
        "directories_path = \"/content/drive/MyDrive/GeoLifeProject/Geolife Trajectories 1.3/Data\"\n",
        "\n",
        "def label_directory(path):\n",
        "  all_dir = (i for i in os.listdir(path))\n",
        "  return (i for i in all_dir if 'labels.txt' in os.listdir(path + \"/\" + i))"
      ],
      "execution_count": 27,
      "outputs": []
    },
    {
      "cell_type": "code",
      "metadata": {
        "colab": {
          "base_uri": "https://localhost:8080/"
        },
        "id": "xBdMVhXUGyNh",
        "outputId": "479c856a-ed25-44ed-dbdc-170df9b09cce"
      },
      "source": [
        "list(label_directory(directories_path))[:5]\n",
        "os.listdir(\"{0}/{1}/Trajectory/\".format(directories_path, \"175\"))[:5]"
      ],
      "execution_count": 73,
      "outputs": [
        {
          "output_type": "execute_result",
          "data": {
            "text/plain": [
              "['20071019052315.plt',\n",
              " '20071019221253.plt',\n",
              " '20071021072153.plt',\n",
              " '20071022014704.plt']"
            ]
          },
          "metadata": {
            "tags": []
          },
          "execution_count": 73
        }
      ]
    },
    {
      "cell_type": "code",
      "metadata": {
        "id": "1jWVMXStJD4e"
      },
      "source": [
        "from pyspark.sql.types import *\n",
        "from pyspark.sql.functions import *\n",
        "\n",
        "def labels(path_to_df):\n",
        "  schema = StructType(\n",
        "    [StructField(\"Start Time\", StringType(), True),\n",
        "    StructField(\"End Time\", StringType(), True),\n",
        "    StructField(\"Transportation Mode\", StringType(), True)]\n",
        "  )\n",
        "  \n",
        "  df = spark.read.format(\"txt\") \\\n",
        "  .option(\"inferSchema\", \"false\") \\\n",
        "  .option(\"header\", \"true\") \\\n",
        "  .option(\"sep\", \"\t\") \\\n",
        "  .schema(schema) \\\n",
        "  .csv(path_to_df + \"labels.txt\") \\\n",
        "  .select(\n",
        "    regexp_replace(\"Start Time\", '/', '-').alias(\"Start_time\"),\n",
        "    regexp_replace(\"End Time\", '/', '-').alias(\"End_time\"),\n",
        "    \"Transportation Mode\"\n",
        "  ) \\\n",
        "  .withColumn('Start_datetime', unix_timestamp(\"Start_time\", \"yyyy-MM-dd HH:mm:ss\")) \\\n",
        "  .withColumn(\"End_datetime\", unix_timestamp(\"End_time\", \"yyyy-MM-dd HH:mm:ss\"))\n",
        "\n",
        "  return df\n"
      ],
      "execution_count": 124,
      "outputs": []
    },
    {
      "cell_type": "code",
      "metadata": {
        "id": "APA1pBx3u2DB"
      },
      "source": [
        "def gps(path_to_df):\n",
        "  schema = StructType(\n",
        "    [StructField(\"latitude\", DoubleType(), False),\n",
        "    StructField(\"longtitude\", DoubleType(), False),\n",
        "    StructField(\"zero\", IntegerType(), False),\n",
        "    StructField(\"altitude\", DoubleType(), False),\n",
        "    StructField(\"number_days\", DoubleType(), False),\n",
        "    StructField(\"date\", StringType(), False),\n",
        "    StructField(\"time\", StringType(), False)]\n",
        "  )\n",
        "  \n",
        "  df = spark.read.format(\"plt\") \\\n",
        "   .option('mode','DROPMALFORMED') \\\n",
        "  .option(\"inferSchema\", \"false\") \\\n",
        "  .option(\"header\", \"false\") \\\n",
        "  .option(\"sep\", \",\") \\\n",
        "  .schema(schema) \\\n",
        "  .csv(path_to_df + \"Trajectory/*.plt\")\\\n",
        "  .na.drop() \\\n",
        "   .select(\"latitude\",\n",
        "                 \"longtitude\",\n",
        "                 \"zero\",\n",
        "                 \"altitude\",\n",
        "                 concat_ws(\" \",\"date\", \"time\" ).alias(\"date_time\"),\n",
        "                 unix_timestamp(concat_ws(\" \",\"date\", \"time\" ), \"yyyy-MM-dd HH:mm:ss\").alias(\"timestamp\"))\n",
        "  # .na\\\n",
        "  # .drop()\\\n",
        "  # .select(udf_add_user(int(number_of_directory[:-1]))(col(\"zero\")).alias(\"id_user\"),\n",
        "  #               \"latitude\",\n",
        "  #                \"longtitude\",\n",
        "  #                \"zero\",\n",
        "  #                \"altitude\",\n",
        "  #         \"date_time\",\n",
        "  #        \"timestamp\",\n",
        "  #         udf_add_transport(txt)(col(\"timestamp\")).alias(\"transport\"),\n",
        "  #        udf_get_data_start_end(txt)(col(\"timestamp\")).alias(\"start_end\")\n",
        "  #        )\n",
        "  \n",
        "  return df"
      ],
      "execution_count": 123,
      "outputs": []
    },
    {
      "cell_type": "code",
      "metadata": {
        "id": "hHF67vrEKUBM"
      },
      "source": [
        "df1 = labels(\"{0}/{1}/\".format(directories_path, \"175\"))"
      ],
      "execution_count": 125,
      "outputs": []
    },
    {
      "cell_type": "code",
      "metadata": {
        "id": "HsyRmpxIKnws"
      },
      "source": [
        "df2 = gps(\"{0}/{1}/\".format(directories_path, \"175\"))"
      ],
      "execution_count": 126,
      "outputs": []
    },
    {
      "cell_type": "code",
      "metadata": {
        "id": "R1wjX1pav6s-"
      },
      "source": [
        "df_join = df2.join(df1)\\\n",
        ".filter(df2.timestamp >= df1.Start_datetime)\\\n",
        ".filter(df2.timestamp <= df1.End_datetime)\\\n",
        "# .groupBy(\"Transportation Mode\")\\\n",
        "# .agg(count(\"Zero\"))"
      ],
      "execution_count": 148,
      "outputs": []
    },
    {
      "cell_type": "code",
      "metadata": {
        "colab": {
          "base_uri": "https://localhost:8080/"
        },
        "id": "1LM6Jbc9WlaD",
        "outputId": "b7251525-97c9-462f-b3ee-c4f0b6b54109"
      },
      "source": [
        "df_join.show()"
      ],
      "execution_count": 151,
      "outputs": [
        {
          "output_type": "stream",
          "text": [
            "+----------------+----------------+----+----------------+-------------------+----------+-------------------+-------------------+-------------------+--------------+------------+\n",
            "|        latitude|      longtitude|zero|        altitude|          date_time| timestamp|         Start_time|           End_time|Transportation Mode|Start_datetime|End_datetime|\n",
            "+----------------+----------------+----+----------------+-------------------+----------+-------------------+-------------------+-------------------+--------------+------------+\n",
            "|39.9751166666667|        116.3306|   0|482.283464566929|2007-10-19 05:23:15|1192771395|2007-10-19 05:23:15|2007-10-19 05:51:00|               taxi|    1192771395|  1192773060|\n",
            "|         39.9751|116.329833333333|   0|482.283464566929|2007-10-19 05:24:15|1192771455|2007-10-19 05:23:15|2007-10-19 05:51:00|               taxi|    1192771395|  1192773060|\n",
            "|         39.9753|       116.32825|   0| 157.48031496063|2007-10-19 05:25:29|1192771529|2007-10-19 05:23:15|2007-10-19 05:51:00|               taxi|    1192771395|  1192773060|\n",
            "|        39.97505|       116.31955|   0|111.548556430446|2007-10-19 05:27:53|1192771673|2007-10-19 05:23:15|2007-10-19 05:51:00|               taxi|    1192771395|  1192773060|\n",
            "|39.9749666666667|116.312733333333|   0|203.412073490814|2007-10-19 05:28:51|1192771731|2007-10-19 05:23:15|2007-10-19 05:51:00|               taxi|    1192771395|  1192773060|\n",
            "|39.9748833333333|116.310016666667|   0|183.727034120735|2007-10-19 05:31:00|1192771860|2007-10-19 05:23:15|2007-10-19 05:51:00|               taxi|    1192771395|  1192773060|\n",
            "|         39.9747|        116.3078|   0|183.727034120735|2007-10-19 05:31:43|1192771903|2007-10-19 05:23:15|2007-10-19 05:51:00|               taxi|    1192771395|  1192773060|\n",
            "|39.9745833333333|116.305616666667|   0|213.254593175853|2007-10-19 05:32:39|1192771959|2007-10-19 05:23:15|2007-10-19 05:51:00|               taxi|    1192771395|  1192773060|\n",
            "|39.9745666666667|        116.3041|   0|226.377952755906|2007-10-19 05:33:17|1192771997|2007-10-19 05:23:15|2007-10-19 05:51:00|               taxi|    1192771395|  1192773060|\n",
            "|39.9745333333333|116.301033333333|   0|196.850393700787|2007-10-19 05:34:49|1192772089|2007-10-19 05:23:15|2007-10-19 05:51:00|               taxi|    1192771395|  1192773060|\n",
            "|         39.9744|116.298066666667|   0|193.569553805774|2007-10-19 05:35:29|1192772129|2007-10-19 05:23:15|2007-10-19 05:51:00|               taxi|    1192771395|  1192773060|\n",
            "|39.9735833333333|       116.29585|   0|187.007874015748|2007-10-19 05:36:00|1192772160|2007-10-19 05:23:15|2007-10-19 05:51:00|               taxi|    1192771395|  1192773060|\n",
            "|39.9791333333333|116.294766666667|   0|167.322834645669|2007-10-19 05:36:52|1192772212|2007-10-19 05:23:15|2007-10-19 05:51:00|               taxi|    1192771395|  1192773060|\n",
            "|39.9888666666667|116.293333333333|   0|167.322834645669|2007-10-19 05:37:54|1192772274|2007-10-19 05:23:15|2007-10-19 05:51:00|               taxi|    1192771395|  1192773060|\n",
            "|39.9922833333333|116.289933333333|   0|164.041994750656|2007-10-19 05:38:23|1192772303|2007-10-19 05:23:15|2007-10-19 05:51:00|               taxi|    1192771395|  1192773060|\n",
            "|39.9959833333333|        116.2889|   0|190.288713910761|2007-10-19 05:38:46|1192772326|2007-10-19 05:23:15|2007-10-19 05:51:00|               taxi|    1192771395|  1192773060|\n",
            "|40.0002666666667|        116.2836|   0|180.446194225722|2007-10-19 05:39:20|1192772360|2007-10-19 05:23:15|2007-10-19 05:51:00|               taxi|    1192771395|  1192773060|\n",
            "|40.0133833333333|116.281283333333|   0|190.288713910761|2007-10-19 05:40:42|1192772442|2007-10-19 05:23:15|2007-10-19 05:51:00|               taxi|    1192771395|  1192773060|\n",
            "|40.0138833333333|116.283983333333|   0|173.884514435696|2007-10-19 05:41:02|1192772462|2007-10-19 05:23:15|2007-10-19 05:51:00|               taxi|    1192771395|  1192773060|\n",
            "|        40.01075|116.269866666667|   0|196.850393700787|2007-10-19 05:42:12|1192772532|2007-10-19 05:23:15|2007-10-19 05:51:00|               taxi|    1192771395|  1192773060|\n",
            "+----------------+----------------+----+----------------+-------------------+----------+-------------------+-------------------+-------------------+--------------+------------+\n",
            "only showing top 20 rows\n",
            "\n"
          ],
          "name": "stdout"
        }
      ]
    },
    {
      "cell_type": "code",
      "metadata": {
        "colab": {
          "base_uri": "https://localhost:8080/"
        },
        "id": "e82o29WxWmcA",
        "outputId": "16028a1b-7f51-450f-899c-9030946d6898"
      },
      "source": [
        "df2.count()"
      ],
      "execution_count": 150,
      "outputs": [
        {
          "output_type": "execute_result",
          "data": {
            "text/plain": [
              "308"
            ]
          },
          "metadata": {
            "tags": []
          },
          "execution_count": 150
        }
      ]
    },
    {
      "cell_type": "code",
      "metadata": {
        "id": "gwTd2AeaY8fu"
      },
      "source": [
        ""
      ],
      "execution_count": null,
      "outputs": []
    }
  ]
}