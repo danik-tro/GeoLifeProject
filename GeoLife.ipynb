{
  "nbformat": 4,
  "nbformat_minor": 0,
  "metadata": {
    "colab": {
      "name": "GeoLife.ipynb",
      "provenance": [],
      "collapsed_sections": [],
      "authorship_tag": "ABX9TyOB74/Ljvx44RPw5RAp4dJF"
    },
    "kernelspec": {
      "name": "python3",
      "display_name": "Python 3"
    }
  },
  "cells": [
    {
      "cell_type": "markdown",
      "metadata": {
        "id": "y61ey75QNazC"
      },
      "source": [
        "# GeoLife Project\n",
        "## Chapter 1 - Download files\n",
        "1. Import libraries.\n",
        "2. Mount google drive.\n",
        "3. Created function for download zip-file.\n",
        "4. Unzip and moved file into google drive"
      ]
    },
    {
      "cell_type": "code",
      "metadata": {
        "id": "wYT0hkPBEcwO"
      },
      "source": [
        "from google.colab import drive\n",
        "import requests\n",
        "import re\n",
        "\n",
        "drive.mount('/content/drive')\n",
        "\n",
        "def download_file(url=\"https://download.microsoft.com/\"\n",
        "            \"download/F/4/8/F4894AA5-FDBC-481E-9285-D5F8C4C4F039/\"\n",
        "            \"Geolife%20Trajectories%201.3.zip\"):\n",
        "    r = requests.get(url, allow_redirects=True)\n",
        "    filename = \"Geolife Trajectories 1.3.zip\"\n",
        "\n",
        "    open(filename, 'wb').write(r.content)\n",
        "\n",
        "!unzip Geolife\\ Trajectories\\ 1.3.zip\n",
        "!rm -r Geolife\\ Trajectories\\ 1.3.zip\n",
        "!mv /content/\"Geolife Trajectories 1.3\" /content/drive/MyDrive/GeoLifeProject"
      ],
      "execution_count": null,
      "outputs": []
    },
    {
      "cell_type": "code",
      "metadata": {
        "id": "YrqdRD1DEi5E"
      },
      "source": [
        "!apt-get install openjdk-8-jdk-headless -qq > /dev/null\n",
        "!wget https://downloads.apache.org/spark/spark-3.0.1/spark-3.0.1-bin-hadoop3.2.tgz\n",
        "!tar -xvf spark-3.0.1-bin-hadoop3.2.tgz\n",
        "!pip install -q findspark\n",
        "!rm -r spark-3.0.1-bin-hadoop3.2.tgz\n",
        "\n",
        "import os\n",
        "os.environ[\"JAVA_HOME\"] = \"/usr/lib/jvm/java-8-openjdk-amd64\"\n",
        "os.environ[\"SPARK_HOME\"] = \"/content/spark-3.0.1-bin-hadoop3.2\"\n",
        "\n",
        "import findspark\n",
        "findspark.init()\n",
        "from pyspark.sql import SparkSession\n",
        "spark = SparkSession.builder.master(\"local[*]\").getOrCreate()   "
      ],
      "execution_count": null,
      "outputs": []
    },
    {
      "cell_type": "code",
      "metadata": {
        "id": "rWQKrIjMGvPx"
      },
      "source": [
        "directories_path = \"/content/drive/MyDrive/GeoLifeProject/Geolife Trajectories 1.3/Data\"\n",
        "\n",
        "def label_directory(path):\n",
        "  all_dir = (i for i in os.listdir(path))\n",
        "  return (i for i in all_dir if 'labels.txt' in os.listdir(path + \"/\" + i))"
      ],
      "execution_count": 27,
      "outputs": []
    },
    {
      "cell_type": "code",
      "metadata": {
        "colab": {
          "base_uri": "https://localhost:8080/"
        },
        "id": "xBdMVhXUGyNh",
        "outputId": "479c856a-ed25-44ed-dbdc-170df9b09cce"
      },
      "source": [
        "list(label_directory(directories_path))[:5]\n",
        "os.listdir(\"{0}/{1}/Trajectory/\".format(directories_path, \"175\"))[:5]"
      ],
      "execution_count": 73,
      "outputs": [
        {
          "output_type": "execute_result",
          "data": {
            "text/plain": [
              "['20071019052315.plt',\n",
              " '20071019221253.plt',\n",
              " '20071021072153.plt',\n",
              " '20071022014704.plt']"
            ]
          },
          "metadata": {
            "tags": []
          },
          "execution_count": 73
        }
      ]
    },
    {
      "cell_type": "code",
      "metadata": {
        "id": "1jWVMXStJD4e"
      },
      "source": [
        "from pyspark.sql.types import *\n",
        "from pyspark.sql.functions import *\n",
        "\n",
        "def labels(path_to_df):\n",
        "  schema = StructType(\n",
        "    [StructField(\"Start Time\", StringType(), True),\n",
        "    StructField(\"End Time\", StringType(), True),\n",
        "    StructField(\"Transportation Mode\", StringType(), True)]\n",
        "  )\n",
        "  \n",
        "  df = spark.read.format(\"txt\") \\\n",
        "  .option(\"inferSchema\", \"false\") \\\n",
        "  .option(\"header\", \"true\") \\\n",
        "  .option(\"sep\", \"\t\") \\\n",
        "  .schema(schema) \\\n",
        "  .csv(path_to_df + \"labels.txt\") \\\n",
        "  .select(\n",
        "    regexp_replace(\"Start Time\", '/', '-').alias(\"Start_time\"),\n",
        "    regexp_replace(\"End Time\", '/', '-').alias(\"End_time\"),\n",
        "    \"Transportation Mode\"\n",
        "  ) \\\n",
        "  .withColumn('Start_datetime', unix_timestamp(\"Start_time\", \"yyyy-MM-dd HH:mm:ss\")) \\\n",
        "  .withColumn(\"End_datetime\", unix_timestamp(\"End_time\", \"yyyy-MM-dd HH:mm:ss\"))\n",
        "\n",
        "  return df\n"
      ],
      "execution_count": 124,
      "outputs": []
    },
    {
      "cell_type": "code",
      "metadata": {
        "id": "APA1pBx3u2DB"
      },
      "source": [
        "def gps(path_to_df):\n",
        "  schema = StructType(\n",
        "    [StructField(\"latitude\", DoubleType(), False),\n",
        "    StructField(\"longtitude\", DoubleType(), False),\n",
        "    StructField(\"zero\", IntegerType(), False),\n",
        "    StructField(\"altitude\", DoubleType(), False),\n",
        "    StructField(\"number_days\", DoubleType(), False),\n",
        "    StructField(\"date\", StringType(), False),\n",
        "    StructField(\"time\", StringType(), False)]\n",
        "  )\n",
        "  \n",
        "  df = spark.read.format(\"plt\") \\\n",
        "   .option('mode','DROPMALFORMED') \\\n",
        "  .option(\"inferSchema\", \"false\") \\\n",
        "  .option(\"header\", \"false\") \\\n",
        "  .option(\"sep\", \",\") \\\n",
        "  .schema(schema) \\\n",
        "  .csv(path_to_df + \"Trajectory/*.plt\")\\\n",
        "  .na.drop() \\\n",
        "   .select(\"latitude\",\n",
        "                 \"longtitude\",\n",
        "                 \"zero\",\n",
        "                 \"altitude\",\n",
        "                 concat_ws(\" \",\"date\", \"time\" ).alias(\"date_time\"),\n",
        "                 unix_timestamp(concat_ws(\" \",\"date\", \"time\" ), \"yyyy-MM-dd HH:mm:ss\").alias(\"timestamp\"))\n",
        "  # .na\\\n",
        "  # .drop()\\\n",
        "  # .select(udf_add_user(int(number_of_directory[:-1]))(col(\"zero\")).alias(\"id_user\"),\n",
        "  #               \"latitude\",\n",
        "  #                \"longtitude\",\n",
        "  #                \"zero\",\n",
        "  #                \"altitude\",\n",
        "  #         \"date_time\",\n",
        "  #        \"timestamp\",\n",
        "  #         udf_add_transport(txt)(col(\"timestamp\")).alias(\"transport\"),\n",
        "  #        udf_get_data_start_end(txt)(col(\"timestamp\")).alias(\"start_end\")\n",
        "  #        )\n",
        "  \n",
        "  return df"
      ],
      "execution_count": 123,
      "outputs": []
    },
    {
      "cell_type": "code",
      "metadata": {
        "id": "hHF67vrEKUBM"
      },
      "source": [
        "df1 = labels(\"{0}/{1}/\".format(directories_path, \"010\"))"
      ],
      "execution_count": 195,
      "outputs": []
    },
    {
      "cell_type": "code",
      "metadata": {
        "id": "HsyRmpxIKnws"
      },
      "source": [
        "df2 = gps(\"{0}/{1}/\".format(directories_path, \"010\"))"
      ],
      "execution_count": 196,
      "outputs": []
    },
    {
      "cell_type": "code",
      "metadata": {
        "id": "R1wjX1pav6s-"
      },
      "source": [
        "df_join = df2.join(df1)\\\n",
        ".filter((df2.timestamp >= df1.Start_datetime)&(df2.timestamp <= df1.End_datetime) )\\\n",
        "#.filter()\\\n",
        "#.select([\"timestamp\", \"latitude\", \"longtitude\", \"altitude\", \"Transportation Mode\", \"date_time\"])\n"
      ],
      "execution_count": 197,
      "outputs": []
    },
    {
      "cell_type": "code",
      "metadata": {
        "colab": {
          "base_uri": "https://localhost:8080/"
        },
        "id": "1LM6Jbc9WlaD",
        "outputId": "3cce947e-3dcf-443b-e01e-39c182896524"
      },
      "source": [
        "df_join.printSchema()"
      ],
      "execution_count": 198,
      "outputs": [
        {
          "output_type": "stream",
          "text": [
            "root\n",
            " |-- latitude: double (nullable = true)\n",
            " |-- longtitude: double (nullable = true)\n",
            " |-- zero: integer (nullable = true)\n",
            " |-- altitude: double (nullable = true)\n",
            " |-- date_time: string (nullable = false)\n",
            " |-- timestamp: long (nullable = true)\n",
            " |-- Start_time: string (nullable = true)\n",
            " |-- End_time: string (nullable = true)\n",
            " |-- Transportation Mode: string (nullable = true)\n",
            " |-- Start_datetime: long (nullable = true)\n",
            " |-- End_datetime: long (nullable = true)\n",
            "\n"
          ],
          "name": "stdout"
        }
      ]
    },
    {
      "cell_type": "code",
      "metadata": {
        "colab": {
          "base_uri": "https://localhost:8080/"
        },
        "id": "e82o29WxWmcA",
        "outputId": "ab4ce55a-6e1c-4963-b5aa-b2d45dcbfe91"
      },
      "source": [
        ""
      ],
      "execution_count": 193,
      "outputs": [
        {
          "output_type": "stream",
          "text": [
            "+--------+----------+----+--------+---------+---------+----------+--------+-------------------+--------------+------------+\n",
            "|latitude|longtitude|zero|altitude|date_time|timestamp|Start_time|End_time|Transportation Mode|Start_datetime|End_datetime|\n",
            "+--------+----------+----+--------+---------+---------+----------+--------+-------------------+--------------+------------+\n",
            "+--------+----------+----+--------+---------+---------+----------+--------+-------------------+--------------+------------+\n",
            "\n"
          ],
          "name": "stdout"
        }
      ]
    },
    {
      "cell_type": "code",
      "metadata": {
        "colab": {
          "base_uri": "https://localhost:8080/",
          "height": 606
        },
        "id": "gwTd2AeaY8fu",
        "outputId": "9ee7849f-b495-4c59-85c8-d0b00f6e4afc"
      },
      "source": [
        "import matplotlib.pyplot as plt\n",
        "%matplotlib inline\n",
        "import seaborn as sns\n",
        "\n",
        "plt.figure(figsize=(18, 10))\n",
        "sns.scatterplot(x='timestamp', y=\"Transportation Mode\", hue=\"Transportation Mode\",\n",
        "             data=df_join.orderBy(\"timestamp\").toPandas()\n",
        ")\n",
        "plt.show()"
      ],
      "execution_count": 200,
      "outputs": [
        {
          "output_type": "display_data",
          "data": {
            "image/png": "[encoded data removed]",
            "text/plain": [
              "<Figure size 1296x720 with 1 Axes>"
            ]
          },
          "metadata": {
            "tags": [],
            "needs_background": "light"
          }
        }
      ]
    },
    {
      "cell_type": "code",
      "metadata": {
        "colab": {
          "base_uri": "https://localhost:8080/",
          "height": 195
        },
        "id": "hi5lm_Z9e8N3",
        "outputId": "97e159c3-95f4-49c2-d146-b19c7f3710ef"
      },
      "source": [
        "df_join.orderBy(\"timestamp\")\\\n",
        "             .groupBy(\"Transportation Mode\")\\\n",
        "      .agg(count(\"latitude\").alias(\"frequity\")).toPandas().head()"
      ],
      "execution_count": 201,
      "outputs": [
        {
          "output_type": "execute_result",
          "data": {
            "text/html": [
              "<div>\n",
              "<style scoped>\n",
              "    .dataframe tbody tr th:only-of-type {\n",
              "        vertical-align: middle;\n",
              "    }\n",
              "\n",
              "    .dataframe tbody tr th {\n",
              "        vertical-align: top;\n",
              "    }\n",
              "\n",
              "    .dataframe thead th {\n",
              "        text-align: right;\n",
              "    }\n",
              "</style>\n",
              "<table border=\"1\" class=\"dataframe\">\n",
              "  <thead>\n",
              "    <tr style=\"text-align: right;\">\n",
              "      <th></th>\n",
              "      <th>Transportation Mode</th>\n",
              "      <th>frequity</th>\n",
              "    </tr>\n",
              "  </thead>\n",
              "  <tbody>\n",
              "    <tr>\n",
              "      <th>0</th>\n",
              "      <td>bus</td>\n",
              "      <td>35190</td>\n",
              "    </tr>\n",
              "    <tr>\n",
              "      <th>1</th>\n",
              "      <td>airplane</td>\n",
              "      <td>1325</td>\n",
              "    </tr>\n",
              "    <tr>\n",
              "      <th>2</th>\n",
              "      <td>train</td>\n",
              "      <td>380935</td>\n",
              "    </tr>\n",
              "    <tr>\n",
              "      <th>3</th>\n",
              "      <td>taxi</td>\n",
              "      <td>56827</td>\n",
              "    </tr>\n",
              "    <tr>\n",
              "      <th>4</th>\n",
              "      <td>walk</td>\n",
              "      <td>37106</td>\n",
              "    </tr>\n",
              "  </tbody>\n",
              "</table>\n",
              "</div>"
            ],
            "text/plain": [
              "  Transportation Mode  frequity\n",
              "0                 bus     35190\n",
              "1            airplane      1325\n",
              "2               train    380935\n",
              "3                taxi     56827\n",
              "4                walk     37106"
            ]
          },
          "metadata": {
            "tags": []
          },
          "execution_count": 201
        }
      ]
    },
    {
      "cell_type": "code",
      "metadata": {
        "id": "s6L2MWCDotSQ"
      },
      "source": [
        ""
      ],
      "execution_count": null,
      "outputs": []
    }
  ]
}