{
  "nbformat": 4,
  "nbformat_minor": 0,
  "metadata": {
    "colab": {
      "name": "GeoLife.ipynb",
      "provenance": [],
      "collapsed_sections": [],
      "authorship_tag": "ABX9TyPVppx4oO64XzAEg4O9WeFJ"
    },
    "kernelspec": {
      "name": "python3",
      "display_name": "Python 3"
    }
  },
  "cells": [
    {
      "cell_type": "markdown",
      "metadata": {
        "id": "y61ey75QNazC"
      },
      "source": [
        "# GeoLife Project\n",
        "## Chapter 1 - Download files\n",
        "1. Import libraries.\n",
        "2. Mount google drive.\n",
        "3. Created function for download zip-file.\n",
        "4. Unzip and moved file into google drive"
      ]
    },
    {
      "cell_type": "code",
      "metadata": {
        "id": "wYT0hkPBEcwO"
      },
      "source": [
        "from google.colab import drive\n",
        "import requests\n",
        "import re\n",
        "\n",
        "drive.mount('/content/drive')\n",
        "\n",
        "def download_file(url=\"https://download.microsoft.com/\"\n",
        "            \"download/F/4/8/F4894AA5-FDBC-481E-9285-D5F8C4C4F039/\"\n",
        "            \"Geolife%20Trajectories%201.3.zip\"):\n",
        "    r = requests.get(url, allow_redirects=True)\n",
        "    filename = \"Geolife Trajectories 1.3.zip\"\n",
        "\n",
        "    open(filename, 'wb').write(r.content)\n",
        "\n",
        "!unzip Geolife\\ Trajectories\\ 1.3.zip\n",
        "!mv /content/\"Geolife Trajectories 1.3\" /content/drive/MyDrive/GeoLifeProject"
      ],
      "execution_count": null,
      "outputs": []
    },
    {
      "cell_type": "code",
      "metadata": {
        "id": "YrqdRD1DEi5E"
      },
      "source": [
        "!apt-get install openjdk-8-jdk-headless -qq > /dev/null\n",
        "!wget https://downloads.apache.org/spark/spark-3.0.1/spark-3.0.1-bin-hadoop3.2.tgz\n",
        "!tar -xvf spark-3.0.1-bin-hadoop3.2.tgz\n",
        "!pip install -q findspark\n",
        "!rm -r spark-3.0.1-bin-hadoop3.2.tgz\n",
        "\n",
        "import os\n",
        "os.environ[\"JAVA_HOME\"] = \"/usr/lib/jvm/java-8-openjdk-amd64\"\n",
        "os.environ[\"SPARK_HOME\"] = \"/content/spark-3.0.1-bin-hadoop3.2\"\n",
        "\n",
        "import findspark\n",
        "findspark.init()\n",
        "from pyspark.sql import SparkSession\n",
        "spark = SparkSession.builder.master(\"local[*]\").getOrCreate()   "
      ],
      "execution_count": null,
      "outputs": []
    },
    {
      "cell_type": "code",
      "metadata": {
        "id": "rWQKrIjMGvPx"
      },
      "source": [
        ""
      ],
      "execution_count": 21,
      "outputs": []
    },
    {
      "cell_type": "code",
      "metadata": {
        "id": "xBdMVhXUGyNh"
      },
      "source": [
        ""
      ],
      "execution_count": 21,
      "outputs": []
    },
    {
      "cell_type": "code",
      "metadata": {
        "id": "hDxLYSAXGztL"
      },
      "source": [
        ""
      ],
      "execution_count": 22,
      "outputs": []
    },
    {
      "cell_type": "code",
      "metadata": {
        "id": "1jWVMXStJD4e"
      },
      "source": [
        ""
      ],
      "execution_count": 22,
      "outputs": []
    },
    {
      "cell_type": "code",
      "metadata": {
        "id": "hHF67vrEKUBM"
      },
      "source": [
        ""
      ],
      "execution_count": 21,
      "outputs": []
    },
    {
      "cell_type": "code",
      "metadata": {
        "id": "HsyRmpxIKnws"
      },
      "source": [
        ""
      ],
      "execution_count": null,
      "outputs": []
    }
  ]
}